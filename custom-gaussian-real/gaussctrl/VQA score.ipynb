{
 "cells": [
  {
   "cell_type": "code",
   "execution_count": null,
   "metadata": {},
   "outputs": [],
   "source": [
    "!pip install t2v-metrics"
   ]
  },
  {
   "cell_type": "code",
   "execution_count": null,
   "metadata": {},
   "outputs": [],
   "source": [
    "!pip install git+https://github.com/openai/CLIP.git"
   ]
  },
  {
   "cell_type": "code",
   "execution_count": 2,
   "metadata": {},
   "outputs": [
    {
     "name": "stderr",
     "output_type": "stream",
     "text": [
      "/opt/anaconda/envs/vqascore/lib/python3.10/site-packages/tqdm/auto.py:21: TqdmWarning: IProgress not found. Please update jupyter and ipywidgets. See https://ipywidgets.readthedocs.io/en/stable/user_install.html\n",
      "  from .autonotebook import tqdm as notebook_tqdm\n",
      "/opt/anaconda/envs/vqascore/lib/python3.10/site-packages/transformers/utils/generic.py:441: FutureWarning: `torch.utils._pytree._register_pytree_node` is deprecated. Please use `torch.utils._pytree.register_pytree_node` instead.\n",
      "  _torch_pytree._register_pytree_node(\n",
      "/opt/anaconda/envs/vqascore/lib/python3.10/site-packages/transformers/utils/generic.py:309: FutureWarning: `torch.utils._pytree._register_pytree_node` is deprecated. Please use `torch.utils._pytree.register_pytree_node` instead.\n",
      "  _torch_pytree._register_pytree_node(\n",
      "/opt/anaconda/envs/vqascore/lib/python3.10/site-packages/transformers/utils/generic.py:309: FutureWarning: `torch.utils._pytree._register_pytree_node` is deprecated. Please use `torch.utils._pytree.register_pytree_node` instead.\n",
      "  _torch_pytree._register_pytree_node(\n",
      "/opt/anaconda/envs/vqascore/lib/python3.10/site-packages/transformers/utils/generic.py:309: FutureWarning: `torch.utils._pytree._register_pytree_node` is deprecated. Please use `torch.utils._pytree.register_pytree_node` instead.\n",
      "  _torch_pytree._register_pytree_node(\n",
      "Loading checkpoint shards: 100%|██████████| 3/3 [00:40<00:00, 13.62s/it]\n"
     ]
    }
   ],
   "source": [
    "import t2v_metrics\n",
    "import os\n",
    "from tqdm import tqdm\n",
    "import torch\n",
    "\n",
    "clip_flant5_score = t2v_metrics.VQAScore(model='clip-flant5-xxl') # our recommended scoring model\n",
    "\n",
    "### Alternatively, if you want to calculate the pairwise similarity scores \n",
    "### between M images and N texts, run the following to return a M x N score tensor."
   ]
  },
  {
   "cell_type": "code",
   "execution_count": 15,
   "metadata": {},
   "outputs": [],
   "source": [
    "# vase root\n",
    "customgaussian_vase_root = './frames/customgaussian-paper'\n",
    "gaussctrl_vase_root = '../../gaussctrl/frames/gaussctrl-paper'\n",
    "\n",
    "# filename\n",
    "customgaussian_vases = sorted(os.listdir(customgaussian_vase_root))\n",
    "gaussctrl_vases = sorted(os.listdir(gaussctrl_vase_root))"
   ]
  },
  {
   "cell_type": "code",
   "execution_count": null,
   "metadata": {},
   "outputs": [
    {
     "name": "stderr",
     "output_type": "stream",
     "text": [
      "100%|██████████| 300/300 [02:40<00:00,  1.87it/s]\n"
     ]
    }
   ],
   "source": [
    "scores = []\n",
    "for i in tqdm(range(len(customgaussian_vases))):\n",
    "    customgaussian_path = os.path.join(customgaussian_vase_root, customgaussian_vases[i])\n",
    "    gaussctrl_path = os.path.join(gaussctrl_vase_root, gaussctrl_vases[i])\n",
    "\n",
    "    images = [customgaussian_path, gaussctrl_path]\n",
    "    texts = [\"a deep blue vase with a black pattern on the wooden table\"]\n",
    "    score = clip_flant5_score(images=images, texts=texts) # scores[i][j] is the score between image i and text j\n",
    "    scores.append(score)"
   ]
  },
  {
   "cell_type": "code",
   "execution_count": null,
   "metadata": {},
   "outputs": [],
   "source": [
    "scores = torch.stack(scores)\n",
    "scores.mean(0)"
   ]
  },
  {
   "cell_type": "code",
   "execution_count": 3,
   "metadata": {},
   "outputs": [],
   "source": [
    "# horse root\n",
    "customgaussian_horse_root = './frames/stone_horse/customgaussian'\n",
    "gaussctrl_horse_root = '../../gaussctrl/frames/stone_horse/gaussctrl'\n",
    "\n",
    "# filename\n",
    "customgaussian_horses = sorted(os.listdir(customgaussian_horse_root))\n",
    "gaussctrl_horses = sorted(os.listdir(gaussctrl_horse_root))"
   ]
  },
  {
   "cell_type": "code",
   "execution_count": 5,
   "metadata": {},
   "outputs": [
    {
     "name": "stderr",
     "output_type": "stream",
     "text": [
      "100%|██████████| 300/300 [02:27<00:00,  2.03it/s]\n"
     ]
    }
   ],
   "source": [
    "scores = []\n",
    "for i in tqdm(range(len(customgaussian_horses))):\n",
    "    customgaussian_path = os.path.join(customgaussian_horse_root, customgaussian_horses[i])\n",
    "    gaussctrl_path = os.path.join(gaussctrl_horse_root, gaussctrl_horses[i])\n",
    "\n",
    "    images = [customgaussian_path, gaussctrl_path]\n",
    "    texts = [\"a horse plushie in front of the museum\"]\n",
    "    score = clip_flant5_score(images=images, texts=texts) # scores[i][j] is the score between image i and text j\n",
    "    scores.append(score)"
   ]
  },
  {
   "cell_type": "code",
   "execution_count": 6,
   "metadata": {},
   "outputs": [
    {
     "data": {
      "text/plain": [
       "tensor([[0.3292],\n",
       "        [0.3128]], device='cuda:0')"
      ]
     },
     "execution_count": 6,
     "metadata": {},
     "output_type": "execute_result"
    }
   ],
   "source": [
    "scores = torch.stack(scores)\n",
    "scores.mean(0)"
   ]
  }
 ],
 "metadata": {
  "kernelspec": {
   "display_name": "vqascore",
   "language": "python",
   "name": "python3"
  },
  "language_info": {
   "codemirror_mode": {
    "name": "ipython",
    "version": 3
   },
   "file_extension": ".py",
   "mimetype": "text/x-python",
   "name": "python",
   "nbconvert_exporter": "python",
   "pygments_lexer": "ipython3",
   "version": "3.10.15"
  }
 },
 "nbformat": 4,
 "nbformat_minor": 2
}
