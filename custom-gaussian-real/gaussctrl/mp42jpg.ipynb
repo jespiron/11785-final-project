{
 "cells": [
  {
   "cell_type": "code",
   "execution_count": 4,
   "metadata": {},
   "outputs": [],
   "source": [
    "import cv2\n",
    "import os\n",
    "\n",
    "def extract_frames_from_mp4(video_path, output_folder):\n",
    "    \"\"\"\n",
    "    Extracts frames from an MP4 video and saves them as images.\n",
    "\n",
    "    Args:\n",
    "        video_path (str): Path to the input MP4 video file.\n",
    "        output_folder (str): Directory where extracted frames will be saved.\n",
    "\n",
    "    Returns:\n",
    "        int: Total number of frames extracted.\n",
    "    \"\"\"\n",
    "    # Ensure the output folder exists\n",
    "    if not os.path.exists(output_folder):\n",
    "        os.makedirs(output_folder)\n",
    "    \n",
    "    # Open the video file\n",
    "    cap = cv2.VideoCapture(video_path)\n",
    "    \n",
    "    if not cap.isOpened():\n",
    "        raise ValueError(f\"Cannot open video file: {video_path}\")\n",
    "    \n",
    "    frame_count = 0\n",
    "    while True:\n",
    "        ret, frame = cap.read()\n",
    "        if not ret:\n",
    "            break\n",
    "        \n",
    "        # Save each frame as an image file\n",
    "        frame_filename = os.path.join(output_folder, f\"frame_{frame_count:05d}.jpg\")\n",
    "        cv2.imwrite(frame_filename, frame)\n",
    "        \n",
    "        frame_count += 1\n",
    "    \n",
    "    cap.release()\n",
    "    return frame_count"
   ]
  },
  {
   "cell_type": "code",
   "execution_count": 12,
   "metadata": {},
   "outputs": [
    {
     "name": "stdout",
     "output_type": "stream",
     "text": [
      "Extracted 300 frames to frames/customgaussian\n"
     ]
    }
   ],
   "source": [
    "# Example Usage\n",
    "folder_path = \"renders/garden/\"\n",
    "video_file = \"customgaussian_final_2024-12-05-12-44-52.mp4\"  # Path to your MP4 file\n",
    "video_path = os.path.join(folder_path, video_file)\n",
    "output_dir = f\"frames/customgaussian\"       # Directory to save frames\n",
    "total_frames = extract_frames_from_mp4(video_path, output_dir)\n",
    "print(f\"Extracted {total_frames} frames to {output_dir}\")"
   ]
  },
  {
   "cell_type": "code",
   "execution_count": 14,
   "metadata": {},
   "outputs": [
    {
     "name": "stdout",
     "output_type": "stream",
     "text": [
      "Extracted 300 frames to frames/customgaussian-paper\n"
     ]
    }
   ],
   "source": [
    "# Example Usage\n",
    "folder_path = \"renders/garden/\"\n",
    "video_file = \"customgaussian_paper_2024-12-07-03-53-13.mp4\"  # Path to your MP4 file\n",
    "video_path = os.path.join(folder_path, video_file)\n",
    "output_dir = f\"frames/customgaussian-paper\"       # Directory to save frames\n",
    "total_frames = extract_frames_from_mp4(video_path, output_dir)\n",
    "print(f\"Extracted {total_frames} frames to {output_dir}\")"
   ]
  },
  {
   "cell_type": "code",
   "execution_count": 13,
   "metadata": {},
   "outputs": [
    {
     "name": "stdout",
     "output_type": "stream",
     "text": [
      "Extracted 300 frames to frames/originalgs\n"
     ]
    }
   ],
   "source": [
    "# Example Usage\n",
    "folder_path = \"renders/garden/\"\n",
    "video_file = \"original_gs-2024-12-05-12-44-52.mp4\"  # Path to your MP4 file\n",
    "video_path = os.path.join(folder_path, video_file)\n",
    "output_dir = f\"frames/originalgs\"       # Directory to save frames\n",
    "total_frames = extract_frames_from_mp4(video_path, output_dir)\n",
    "print(f\"Extracted {total_frames} frames to {output_dir}\")"
   ]
  },
  {
   "cell_type": "code",
   "execution_count": 3,
   "metadata": {},
   "outputs": [
    {
     "name": "stdout",
     "output_type": "stream",
     "text": [
      "Extracted 300 frames to frames/originalgs-paper\n"
     ]
    }
   ],
   "source": [
    "# Example Usage\n",
    "folder_path = \"renders/garden/\"\n",
    "video_file = \"originalgs_paper_2024-12-07-03-53-13.mp4\"  # Path to your MP4 file\n",
    "video_path = os.path.join(folder_path, video_file)\n",
    "output_dir = f\"frames/originalgs-paper\"       # Directory to save frames\n",
    "total_frames = extract_frames_from_mp4(video_path, output_dir)\n",
    "print(f\"Extracted {total_frames} frames to {output_dir}\")"
   ]
  },
  {
   "cell_type": "markdown",
   "metadata": {},
   "source": [
    "# Stone Horse"
   ]
  },
  {
   "cell_type": "code",
   "execution_count": 3,
   "metadata": {},
   "outputs": [
    {
     "name": "stdout",
     "output_type": "stream",
     "text": [
      "Extracted 300 frames to frames/stone_horse/originalgs\n"
     ]
    }
   ],
   "source": [
    "# Original GS\n",
    "folder_path = \"renders/stone_horse/\"\n",
    "video_file = \"originalgs_2024-12-07-14-09-20.mp4\"  # Path to your MP4 file\n",
    "video_path = os.path.join(folder_path, video_file)\n",
    "output_dir = f\"frames/stone_horse/originalgs\"       # Directory to save frames\n",
    "total_frames = extract_frames_from_mp4(video_path, output_dir)\n",
    "print(f\"Extracted {total_frames} frames to {output_dir}\")"
   ]
  },
  {
   "cell_type": "code",
   "execution_count": null,
   "metadata": {},
   "outputs": [
    {
     "ename": "NameError",
     "evalue": "name 'os' is not defined",
     "output_type": "error",
     "traceback": [
      "\u001b[0;31m---------------------------------------------------------------------------\u001b[0m",
      "\u001b[0;31mNameError\u001b[0m                                 Traceback (most recent call last)",
      "Cell \u001b[0;32mIn[1], line 4\u001b[0m\n\u001b[1;32m      2\u001b[0m folder_path \u001b[38;5;241m=\u001b[39m \u001b[38;5;124m\"\u001b[39m\u001b[38;5;124mrenders/stone_horse/\u001b[39m\u001b[38;5;124m\"\u001b[39m\n\u001b[1;32m      3\u001b[0m video_file \u001b[38;5;241m=\u001b[39m \u001b[38;5;124m\"\u001b[39m\u001b[38;5;124mcustomgaussian_2024-12-07-14-09-20.mp4\u001b[39m\u001b[38;5;124m\"\u001b[39m  \u001b[38;5;66;03m# Path to your MP4 file\u001b[39;00m\n\u001b[0;32m----> 4\u001b[0m video_path \u001b[38;5;241m=\u001b[39m \u001b[43mos\u001b[49m\u001b[38;5;241m.\u001b[39mpath\u001b[38;5;241m.\u001b[39mjoin(folder_path, video_file)\n\u001b[1;32m      5\u001b[0m output_dir \u001b[38;5;241m=\u001b[39m \u001b[38;5;124mf\u001b[39m\u001b[38;5;124m\"\u001b[39m\u001b[38;5;124mframes/stone_horse/customgaussian\u001b[39m\u001b[38;5;124m\"\u001b[39m       \u001b[38;5;66;03m# Directory to save frames\u001b[39;00m\n\u001b[1;32m      6\u001b[0m total_frames \u001b[38;5;241m=\u001b[39m extract_frames_from_mp4(video_path, output_dir)\n",
      "\u001b[0;31mNameError\u001b[0m: name 'os' is not defined"
     ]
    }
   ],
   "source": [
    "# CustomGaussian\n",
    "folder_path = \"renders/stone_horse/\"\n",
    "video_file = \"customgaussian_2024-12-07-14-09-20.mp4\"  # Path to your MP4 file\n",
    "video_path = os.path.join(folder_path, video_file)\n",
    "output_dir = f\"frames/stone_horse/customgaussian\"       # Directory to save frames\n",
    "total_frames = extract_frames_from_mp4(video_path, output_dir)\n",
    "print(f\"Extracted {total_frames} frames to {output_dir}\")"
   ]
  }
 ],
 "metadata": {
  "kernelspec": {
   "display_name": "temp",
   "language": "python",
   "name": "python3"
  },
  "language_info": {
   "codemirror_mode": {
    "name": "ipython",
    "version": 3
   },
   "file_extension": ".py",
   "mimetype": "text/x-python",
   "name": "python",
   "nbconvert_exporter": "python",
   "pygments_lexer": "ipython3",
   "version": "3.9.20"
  }
 },
 "nbformat": 4,
 "nbformat_minor": 2
}
